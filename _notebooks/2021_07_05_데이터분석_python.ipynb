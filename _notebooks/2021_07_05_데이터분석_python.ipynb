{
  "nbformat": 4,
  "nbformat_minor": 0,
  "metadata": {
    "colab": {
      "name": "2021_07_05_데이터분석_python.ipynb",
      "provenance": []
    },
    "kernelspec": {
      "name": "python3",
      "display_name": "Python 3"
    },
    "language_info": {
      "name": "python"
    }
  },
  "cells": [
    {
      "cell_type": "code",
      "metadata": {
        "colab": {
          "base_uri": "https://localhost:8080/"
        },
        "id": "RLqjKN9mXdB6",
        "outputId": "b9d61789-8569-4fe6-83e9-e1ba757a1ccd"
      },
      "source": [
        "x = 3\n",
        "y = 7\n",
        "x + y\n"
      ],
      "execution_count": null,
      "outputs": [
        {
          "output_type": "execute_result",
          "data": {
            "text/plain": [
              "10"
            ]
          },
          "metadata": {
            "tags": []
          },
          "execution_count": 1
        }
      ]
    },
    {
      "cell_type": "markdown",
      "metadata": {
        "id": "Lk38vcN2YO2v"
      },
      "source": [
        "# 마크다운\n",
        "## 마크다운\n",
        "### 마크다운\n",
        "\n",
        "\n",
        "* hello world\n",
        "* hello world\n",
        "* hello world\n",
        "\n",
        "1. hello world\n",
        "1. hello world\n",
        "1. hello world\n"
      ]
    },
    {
      "cell_type": "markdown",
      "metadata": {
        "id": "VlW-UDsma4QM"
      },
      "source": [
        "## 변수\n"
      ]
    },
    {
      "cell_type": "markdown",
      "metadata": {
        "id": "JjZy_Ig_cEEd"
      },
      "source": [
        "* 대문자와 소문자는 다릅니다. # Apple 과 apple은 다름\n",
        "* 변수명에 띄어쓰기를 쓰지 않습니다.\n",
        "* 맨 앞에 숫자를 사용하지 않습니다.\n",
        "* 카멜 표기법이나 스네이크 표기법 중 일반 변수는 스네이크 표기법을 사용합니다. #카멜 표기법 : AppleIsGood(띄어쓰기를 대문자로 표시), 스네이크 표시법 : 일반적인 문자적는 방법\n",
        "* for, of, print 등 이미 예약되어 있는 것은 변수로 사용하지 않습니다."
      ]
    },
    {
      "cell_type": "code",
      "metadata": {
        "colab": {
          "base_uri": "https://localhost:8080/"
        },
        "id": "Xr0ctCdda9Z9",
        "outputId": "941232a1-75bb-462c-9620-ac6e3ac39dcd"
      },
      "source": [
        "x = 3\n",
        "y = 7\n",
        "x + y\n",
        "x - y\n",
        "x * y\n",
        "x // y"
      ],
      "execution_count": null,
      "outputs": [
        {
          "output_type": "execute_result",
          "data": {
            "text/plain": [
              "0"
            ]
          },
          "metadata": {
            "tags": []
          },
          "execution_count": 5
        }
      ]
    },
    {
      "cell_type": "code",
      "metadata": {
        "colab": {
          "base_uri": "https://localhost:8080/"
        },
        "id": "enmqQ0IjboMc",
        "outputId": "73ec8bbc-c4cd-4015-d375-54247d10d987"
      },
      "source": [
        "x = 3\n",
        "y = 7\n",
        "print(x + y)\n",
        "print(x - y)\n",
        "print(x * y)\n",
        "print(x // y)"
      ],
      "execution_count": null,
      "outputs": [
        {
          "output_type": "stream",
          "text": [
            "10\n",
            "-4\n",
            "21\n",
            "0\n"
          ],
          "name": "stdout"
        }
      ]
    },
    {
      "cell_type": "code",
      "metadata": {
        "colab": {
          "base_uri": "https://localhost:8080/"
        },
        "id": "EUPpm-tUcSBl",
        "outputId": "81d8dbfd-9d12-4c5b-a476-7ef32e0b2062"
      },
      "source": [
        "a = 10\n",
        "b = '10'\n",
        "print(a+a)\n",
        "print(b+b)"
      ],
      "execution_count": null,
      "outputs": [
        {
          "output_type": "stream",
          "text": [
            "20\n",
            "1010\n"
          ],
          "name": "stdout"
        }
      ]
    },
    {
      "cell_type": "code",
      "metadata": {
        "colab": {
          "base_uri": "https://localhost:8080/"
        },
        "id": "ntIrRI8Wc9oN",
        "outputId": "3e5d6629-26d2-4a7b-a45b-ccaa48c28936"
      },
      "source": [
        "a = 10 #int : 정수\n",
        "b = '10' # str : 문자열\n",
        "c = 'lee'\n",
        "d = 'hojun'\n",
        "e = True # bool : 불리언\n",
        "f = 10.1 # float : 실수\n",
        "print(type(a))"
      ],
      "execution_count": null,
      "outputs": [
        {
          "output_type": "stream",
          "text": [
            "<class 'int'>\n"
          ],
          "name": "stdout"
        }
      ]
    },
    {
      "cell_type": "code",
      "metadata": {
        "colab": {
          "base_uri": "https://localhost:8080/"
        },
        "id": "HbboMIRId2iF",
        "outputId": "76cab559-6c13-4128-e579-a0e872128232"
      },
      "source": [
        "3 > 10"
      ],
      "execution_count": null,
      "outputs": [
        {
          "output_type": "execute_result",
          "data": {
            "text/plain": [
              "False"
            ]
          },
          "metadata": {
            "tags": []
          },
          "execution_count": 11
        }
      ]
    },
    {
      "cell_type": "code",
      "metadata": {
        "colab": {
          "base_uri": "https://localhost:8080/"
        },
        "id": "J2dqTAAAeZ7U",
        "outputId": "2136e45e-1571-484a-fa0e-a3662ec8b975"
      },
      "source": [
        "a = [10, 20, 30, 10.1, 20.1, 30.1, 'hojun'] # list\n",
        "b = (10, 20, 30) # tuple\n",
        "c = {10, 20, 30, 30, 30} # set\n",
        "d = {'one':1, 'two':2} # dict\n",
        "print(type(a))"
      ],
      "execution_count": null,
      "outputs": [
        {
          "output_type": "stream",
          "text": [
            "<class 'list'>\n"
          ],
          "name": "stdout"
        }
      ]
    },
    {
      "cell_type": "code",
      "metadata": {
        "colab": {
          "base_uri": "https://localhost:8080/"
        },
        "id": "ByIu8gMJffId",
        "outputId": "de54ccf1-e267-4de8-e5f5-9f3de2e280ae"
      },
      "source": [
        "a.pop()\n",
        "sum(a)\n",
        "\n"
      ],
      "execution_count": null,
      "outputs": [
        {
          "output_type": "execute_result",
          "data": {
            "text/plain": [
              "90.19999999999999"
            ]
          },
          "metadata": {
            "tags": []
          },
          "execution_count": 15
        }
      ]
    },
    {
      "cell_type": "markdown",
      "metadata": {
        "id": "95KZCgvUgVrj"
      },
      "source": [
        "## 형변환"
      ]
    },
    {
      "cell_type": "code",
      "metadata": {
        "colab": {
          "base_uri": "https://localhost:8080/"
        },
        "id": "jjjawgYzgZ0c",
        "outputId": "dd749b75-07fa-45f3-900a-c88484ced416"
      },
      "source": [
        "a = 10\n",
        "b = '10'\n",
        "print(str(a)+b)\n",
        "print(a + int(b))"
      ],
      "execution_count": null,
      "outputs": [
        {
          "output_type": "stream",
          "text": [
            "1010\n",
            "20\n"
          ],
          "name": "stdout"
        }
      ]
    },
    {
      "cell_type": "markdown",
      "metadata": {
        "id": "58JMnTyGkwuT"
      },
      "source": [
        "## 산술연산"
      ]
    },
    {
      "cell_type": "code",
      "metadata": {
        "colab": {
          "base_uri": "https://localhost:8080/"
        },
        "id": "WpR-gz-wk0tS",
        "outputId": "c205c8b2-d2ba-494a-adaa-a387b34e25ec"
      },
      "source": [
        "a = 7\n",
        "b = 3\n",
        "print(a + b)\n",
        "print(a - b)\n",
        "print(a * b)\n",
        "print(a / b) #소수점까지 출력\n",
        "print(a // b)\n",
        "print(a ** b)\n",
        "print(a % b) #a를 b로 나눠서 나온 나머지 값을 출력"
      ],
      "execution_count": null,
      "outputs": [
        {
          "output_type": "stream",
          "text": [
            "10\n",
            "4\n",
            "21\n",
            "2.3333333333333335\n",
            "2\n",
            "343\n"
          ],
          "name": "stdout"
        }
      ]
    },
    {
      "cell_type": "markdown",
      "metadata": {
        "id": "Znlv0mzVmAFL"
      },
      "source": [
        "## 비교연산"
      ]
    },
    {
      "cell_type": "code",
      "metadata": {
        "colab": {
          "base_uri": "https://localhost:8080/"
        },
        "id": "78HuC6qnmB-z",
        "outputId": "d3fac865-1c7d-4b9b-a090-e73922fe6c26"
      },
      "source": [
        "a = 3\n",
        "b = 5\n",
        "print(a > b)\n",
        "print(a >= b)\n",
        "print(a < b)\n",
        "print(a <= b)\n",
        "print(a == b)\n",
        "print(a != b)\n",
        "\n",
        "\n"
      ],
      "execution_count": null,
      "outputs": [
        {
          "output_type": "stream",
          "text": [
            "False\n",
            "False\n",
            "True\n",
            "True\n",
            "False\n",
            "True\n"
          ],
          "name": "stdout"
        }
      ]
    },
    {
      "cell_type": "markdown",
      "metadata": {
        "id": "9VBw8dSyousC"
      },
      "source": [
        "## 논리연산"
      ]
    },
    {
      "cell_type": "code",
      "metadata": {
        "colab": {
          "base_uri": "https://localhost:8080/"
        },
        "id": "lvX-r_RppFkB",
        "outputId": "f56a664f-c30c-4e9d-ccd4-c05365c2aaa8"
      },
      "source": [
        "# 주석입니다. 주석은 실행하지 않습니다.\n",
        "a = 10\n",
        "b = 20\n",
        "a + b"
      ],
      "execution_count": null,
      "outputs": [
        {
          "output_type": "execute_result",
          "data": {
            "text/plain": [
              "30"
            ]
          },
          "metadata": {
            "tags": []
          },
          "execution_count": 22
        }
      ]
    },
    {
      "cell_type": "code",
      "metadata": {
        "colab": {
          "base_uri": "https://localhost:8080/"
        },
        "id": "Qp3Er5Qnow6i",
        "outputId": "b80ef97f-b34b-46e8-cf7e-6888bc861c44"
      },
      "source": [
        "a = True # 1\n",
        "b = False # 0\n",
        "\n",
        "print(a and b)\n",
        "print(a or b)\n",
        "print(not a)"
      ],
      "execution_count": null,
      "outputs": [
        {
          "output_type": "stream",
          "text": [
            "False\n",
            "True\n",
            "False\n"
          ],
          "name": "stdout"
        }
      ]
    },
    {
      "cell_type": "code",
      "metadata": {
        "colab": {
          "base_uri": "https://localhost:8080/"
        },
        "id": "4_koo4jDqnCZ",
        "outputId": "30cc98fc-d41e-410f-e2fc-15e6abfb0d08"
      },
      "source": [
        "result = 0\n",
        "for i in range(1001):\n",
        "    if i % 3 == 0 or i % 5 == 0:\n",
        "        result =  result + i\n",
        "\n",
        "print(result)"
      ],
      "execution_count": null,
      "outputs": [
        {
          "output_type": "stream",
          "text": [
            "234168\n"
          ],
          "name": "stdout"
        }
      ]
    },
    {
      "cell_type": "markdown",
      "metadata": {
        "id": "Zadmersrw45A"
      },
      "source": [
        "## 문자열"
      ]
    },
    {
      "cell_type": "code",
      "metadata": {
        "colab": {
          "base_uri": "https://localhost:8080/"
        },
        "id": "g1dSDZdZw7F4",
        "outputId": "d40662f5-d4d7-4bc7-8bdf-c7d964718588"
      },
      "source": [
        "s = 'paullab CEO lehojun'"
      ],
      "execution_count": null,
      "outputs": [
        {
          "output_type": "execute_result",
          "data": {
            "text/plain": [
              "('paullab CEO lehojun',)"
            ]
          },
          "metadata": {
            "tags": []
          },
          "execution_count": 35
        }
      ]
    },
    {
      "cell_type": "code",
      "metadata": {
        "colab": {
          "base_uri": "https://localhost:8080/"
        },
        "id": "4UjX6cspxJTf",
        "outputId": "04c8f180-6d3e-4d51-9ce2-d54891e02d55"
      },
      "source": [
        "s.count(' ') #해당하는 문자의 개수를 세줌"
      ],
      "execution_count": null,
      "outputs": [
        {
          "output_type": "execute_result",
          "data": {
            "text/plain": [
              "2"
            ]
          },
          "metadata": {
            "tags": []
          },
          "execution_count": 42
        }
      ]
    },
    {
      "cell_type": "code",
      "metadata": {
        "colab": {
          "base_uri": "https://localhost:8080/",
          "height": 35
        },
        "id": "JjDMg6OMx2EP",
        "outputId": "a38d16fe-6c60-4495-e658-729eea735ce7"
      },
      "source": [
        "s.upper() #대문자"
      ],
      "execution_count": null,
      "outputs": [
        {
          "output_type": "execute_result",
          "data": {
            "application/vnd.google.colaboratory.intrinsic+json": {
              "type": "string"
            },
            "text/plain": [
              "'PAULLAB CEO LEHOJUN'"
            ]
          },
          "metadata": {
            "tags": []
          },
          "execution_count": 43
        }
      ]
    },
    {
      "cell_type": "code",
      "metadata": {
        "colab": {
          "base_uri": "https://localhost:8080/",
          "height": 35
        },
        "id": "66TWz-I7x5oQ",
        "outputId": "59fdb2f5-c534-4b9c-80ee-68cedc0e19ca"
      },
      "source": [
        "s.lower() #소문자"
      ],
      "execution_count": null,
      "outputs": [
        {
          "output_type": "execute_result",
          "data": {
            "application/vnd.google.colaboratory.intrinsic+json": {
              "type": "string"
            },
            "text/plain": [
              "'paullab ceo lehojun'"
            ]
          },
          "metadata": {
            "tags": []
          },
          "execution_count": 44
        }
      ]
    },
    {
      "cell_type": "code",
      "metadata": {
        "colab": {
          "base_uri": "https://localhost:8080/"
        },
        "id": "XUvX6zOXx8EX",
        "outputId": "88d56996-787b-46d0-c142-c6e772ddb6b6"
      },
      "source": [
        "s.split(' ') #' '단위로 자름"
      ],
      "execution_count": null,
      "outputs": [
        {
          "output_type": "execute_result",
          "data": {
            "text/plain": [
              "['paullab', 'CEO', 'lehojun']"
            ]
          },
          "metadata": {
            "tags": []
          },
          "execution_count": 47
        }
      ]
    },
    {
      "cell_type": "code",
      "metadata": {
        "colab": {
          "base_uri": "https://localhost:8080/",
          "height": 35
        },
        "id": "cbbUqhfKyAzv",
        "outputId": "3426a8bf-6085-4aa5-de11-65ca9e4aef45"
      },
      "source": [
        "'-'. join(['a', 'b', 'c']) # 안의 각 문자들을 붙힘 -> 가독성을 위해 전화번호같은 경우에는 대쉬(-)를 넣어줌."
      ],
      "execution_count": null,
      "outputs": [
        {
          "output_type": "execute_result",
          "data": {
            "application/vnd.google.colaboratory.intrinsic+json": {
              "type": "string"
            },
            "text/plain": [
              "'a-b-c'"
            ]
          },
          "metadata": {
            "tags": []
          },
          "execution_count": 49
        }
      ]
    },
    {
      "cell_type": "code",
      "metadata": {
        "colab": {
          "base_uri": "https://localhost:8080/",
          "height": 35
        },
        "id": "36L7LO70y6hn",
        "outputId": "174c6c3c-dd92-4daf-a5db-7fd8c84cf4f4"
      },
      "source": [
        "d = s.split(' ') \n",
        "'-'.join(d)\n"
      ],
      "execution_count": null,
      "outputs": [
        {
          "output_type": "execute_result",
          "data": {
            "application/vnd.google.colaboratory.intrinsic+json": {
              "type": "string"
            },
            "text/plain": [
              "'paullab-CEO-lehojun'"
            ]
          },
          "metadata": {
            "tags": []
          },
          "execution_count": 51
        }
      ]
    },
    {
      "cell_type": "code",
      "metadata": {
        "colab": {
          "base_uri": "https://localhost:8080/"
        },
        "id": "FSEl8CETzse3",
        "outputId": "6826534e-478b-43d1-b075-9ff5fbc0fde2"
      },
      "source": [
        "dir(s)"
      ],
      "execution_count": null,
      "outputs": [
        {
          "output_type": "execute_result",
          "data": {
            "text/plain": [
              "['__add__',\n",
              " '__class__',\n",
              " '__contains__',\n",
              " '__delattr__',\n",
              " '__dir__',\n",
              " '__doc__',\n",
              " '__eq__',\n",
              " '__format__',\n",
              " '__ge__',\n",
              " '__getattribute__',\n",
              " '__getitem__',\n",
              " '__getnewargs__',\n",
              " '__gt__',\n",
              " '__hash__',\n",
              " '__init__',\n",
              " '__init_subclass__',\n",
              " '__iter__',\n",
              " '__le__',\n",
              " '__len__',\n",
              " '__lt__',\n",
              " '__mod__',\n",
              " '__mul__',\n",
              " '__ne__',\n",
              " '__new__',\n",
              " '__reduce__',\n",
              " '__reduce_ex__',\n",
              " '__repr__',\n",
              " '__rmod__',\n",
              " '__rmul__',\n",
              " '__setattr__',\n",
              " '__sizeof__',\n",
              " '__str__',\n",
              " '__subclasshook__',\n",
              " 'capitalize',\n",
              " 'casefold',\n",
              " 'center',\n",
              " 'count',\n",
              " 'encode',\n",
              " 'endswith',\n",
              " 'expandtabs',\n",
              " 'find',\n",
              " 'format',\n",
              " 'format_map',\n",
              " 'index',\n",
              " 'isalnum',\n",
              " 'isalpha',\n",
              " 'isascii',\n",
              " 'isdecimal',\n",
              " 'isdigit',\n",
              " 'isidentifier',\n",
              " 'islower',\n",
              " 'isnumeric',\n",
              " 'isprintable',\n",
              " 'isspace',\n",
              " 'istitle',\n",
              " 'isupper',\n",
              " 'join',\n",
              " 'ljust',\n",
              " 'lower',\n",
              " 'lstrip',\n",
              " 'maketrans',\n",
              " 'partition',\n",
              " 'replace',\n",
              " 'rfind',\n",
              " 'rindex',\n",
              " 'rjust',\n",
              " 'rpartition',\n",
              " 'rsplit',\n",
              " 'rstrip',\n",
              " 'split',\n",
              " 'splitlines',\n",
              " 'startswith',\n",
              " 'strip',\n",
              " 'swapcase',\n",
              " 'title',\n",
              " 'translate',\n",
              " 'upper',\n",
              " 'zfill']"
            ]
          },
          "metadata": {
            "tags": []
          },
          "execution_count": 52
        }
      ]
    },
    {
      "cell_type": "code",
      "metadata": {
        "colab": {
          "base_uri": "https://localhost:8080/"
        },
        "id": "JJgYk80X0ASW",
        "outputId": "569d851c-ccb4-48be-904e-7fc47e3834a0"
      },
      "source": [
        "s = '              hello world'\n",
        "print(s)\n",
        "print(s.strip()) # strip : 공백을 없앰\n",
        "print(s.replace(' ','')) # 앞의 것을 뒤에 걸로 바꾸겠다. -> 모든공백을 없앰"
      ],
      "execution_count": null,
      "outputs": [
        {
          "output_type": "stream",
          "text": [
            "              hello world\n",
            "hello world\n",
            "helloworld\n"
          ],
          "name": "stdout"
        }
      ]
    },
    {
      "cell_type": "markdown",
      "metadata": {
        "id": "aMGaGm8lcVwV"
      },
      "source": [
        "## 리스트\n",
        "\n",
        "* 순서가 있고, 수정이 가능합니다."
      ]
    },
    {
      "cell_type": "code",
      "metadata": {
        "colab": {
          "base_uri": "https://localhost:8080/"
        },
        "id": "4m_xiEI8cpGc",
        "outputId": "c051bebe-0fe3-4346-b22a-69d5be9ad201"
      },
      "source": [
        "a = [10, 20, 30, 40, 50, 60, 70, 15]\n",
        "a\n",
        "a[0] # 0번은 인덱스이고, a[0] 추출하는 것을 Indexing이라고 합니다.\n",
        "a[0], a[1], a[2], a[3]\n",
        "a[0:3] # 슬리이싱, 자료형[start:stop:step] stop, step은 생략가능\n",
        "a[::2]  # 이건 자주 안씀\n",
        "a[::-1] # 거꾸로 출력, 이건 정말 많이 씀\n",
        "a[0] = 1000 # a의 0번째를 1000으로 바꿈\n",
        "a"
      ],
      "execution_count": null,
      "outputs": [
        {
          "output_type": "execute_result",
          "data": {
            "text/plain": [
              "[1000, 20, 30, 40, 50, 60, 70, 15]"
            ]
          },
          "metadata": {
            "tags": []
          },
          "execution_count": 10
        }
      ]
    },
    {
      "cell_type": "code",
      "metadata": {
        "colab": {
          "base_uri": "https://localhost:8080/"
        },
        "id": "I7T-TmY6d03n",
        "outputId": "b1b876c5-795d-4a48-eaf3-28d5336052e2"
      },
      "source": [
        "dir(a)\n",
        "\n",
        "a.append(10) # 값을 맨 뒤에 추가합니다 잘씀\n",
        "a.clear # a에 모든 값을 비웁니다. \n",
        "a.copy # a에 모든 값을 복사합니다.\n",
        "a.count # a에서 특정한 값의 개수를 찾습니다. 잘씀\n",
        "a.extend([10, 20, 30]) # a에 맨 뒤에 여러개의 값을 추가합니다.\n",
        "a.index # a에서 특정한 값의 인덱스를 찾습니다.\n",
        "a.insert(2, 10000) # a에 중간에 값을 삽입합니다.\n",
        "a.pop # a에 맨 뒤에 값을 빼냅니다. 빼낸 값은 삭제됩니다. 잘씀\n",
        "a.remove # a에 특정한 값을 삭제합니다.\n",
        "a.reverse(10000) #a에 특정한 값을 뒤집습니다. 잘씀\n",
        "a.sort # a의 값을 정렬합니다. 잘씀"
      ],
      "execution_count": null,
      "outputs": [
        {
          "output_type": "execute_result",
          "data": {
            "text/plain": [
              "['__add__',\n",
              " '__class__',\n",
              " '__contains__',\n",
              " '__delattr__',\n",
              " '__delitem__',\n",
              " '__dir__',\n",
              " '__doc__',\n",
              " '__eq__',\n",
              " '__format__',\n",
              " '__ge__',\n",
              " '__getattribute__',\n",
              " '__getitem__',\n",
              " '__gt__',\n",
              " '__hash__',\n",
              " '__iadd__',\n",
              " '__imul__',\n",
              " '__init__',\n",
              " '__init_subclass__',\n",
              " '__iter__',\n",
              " '__le__',\n",
              " '__len__',\n",
              " '__lt__',\n",
              " '__mul__',\n",
              " '__ne__',\n",
              " '__new__',\n",
              " '__reduce__',\n",
              " '__reduce_ex__',\n",
              " '__repr__',\n",
              " '__reversed__',\n",
              " '__rmul__',\n",
              " '__setattr__',\n",
              " '__setitem__',\n",
              " '__sizeof__',\n",
              " '__str__',\n",
              " '__subclasshook__',\n",
              " 'append',\n",
              " 'clear',\n",
              " 'copy',\n",
              " 'count',\n",
              " 'extend',\n",
              " 'index',\n",
              " 'insert',\n",
              " 'pop',\n",
              " 'remove',\n",
              " 'reverse',\n",
              " 'sort']"
            ]
          },
          "metadata": {
            "tags": []
          },
          "execution_count": 11
        }
      ]
    },
    {
      "cell_type": "code",
      "metadata": {
        "colab": {
          "base_uri": "https://localhost:8080/"
        },
        "id": "Q9ZEbZFFgaVV",
        "outputId": "e4c561e4-ecc0-440d-83eb-e6c49315fdfd"
      },
      "source": [
        "a.append(100)\n",
        "a.append(100) # 뒤에 100을 추가함\n",
        "a "
      ],
      "execution_count": null,
      "outputs": [
        {
          "output_type": "execute_result",
          "data": {
            "text/plain": [
              "[1000, 20, 30, 40, 50, 60, 70, 15, 100, 100, 100, 100, 100]"
            ]
          },
          "metadata": {
            "tags": []
          },
          "execution_count": 14
        }
      ]
    },
    {
      "cell_type": "code",
      "metadata": {
        "colab": {
          "base_uri": "https://localhost:8080/"
        },
        "id": "ie2_DR5_gxpV",
        "outputId": "157bc048-3421-4fb5-9432-44cbedce96a5"
      },
      "source": [
        "a.count(100)"
      ],
      "execution_count": null,
      "outputs": [
        {
          "output_type": "execute_result",
          "data": {
            "text/plain": [
              "5"
            ]
          },
          "metadata": {
            "tags": []
          },
          "execution_count": 16
        }
      ]
    },
    {
      "cell_type": "code",
      "metadata": {
        "colab": {
          "base_uri": "https://localhost:8080/"
        },
        "id": "2GJx-iTGg6F2",
        "outputId": "1faffb1f-1eed-496d-9594-d9ffe9ec5e1f"
      },
      "source": [
        "a.sort()\n",
        "a"
      ],
      "execution_count": null,
      "outputs": [
        {
          "output_type": "execute_result",
          "data": {
            "text/plain": [
              "[15, 20, 30, 40, 50, 60, 70, 100, 100, 100, 100, 100, 1000]"
            ]
          },
          "metadata": {
            "tags": []
          },
          "execution_count": 18
        }
      ]
    },
    {
      "cell_type": "code",
      "metadata": {
        "colab": {
          "base_uri": "https://localhost:8080/"
        },
        "id": "VA58nBlOg-HG",
        "outputId": "b1aec7ba-7210-4c59-926d-ae48efc0fc3f"
      },
      "source": [
        "a.reverse()\n",
        "a"
      ],
      "execution_count": null,
      "outputs": [
        {
          "output_type": "execute_result",
          "data": {
            "text/plain": [
              "[1000, 100, 100, 100, 100, 100, 70, 60, 50, 40, 30, 20, 15]"
            ]
          },
          "metadata": {
            "tags": []
          },
          "execution_count": 21
        }
      ]
    },
    {
      "cell_type": "markdown",
      "metadata": {
        "id": "ncOsuI2-iqO1"
      },
      "source": [
        "## 튜플, 딕셔너리, 셋"
      ]
    },
    {
      "cell_type": "code",
      "metadata": {
        "colab": {
          "base_uri": "https://localhost:8080/"
        },
        "id": "SSUPpBhBitw1",
        "outputId": "8ff17487-5246-45e4-83a7-49c8c0311c77"
      },
      "source": [
        "# 튜플은 순서가 있고 값을 변경할 수 없습니다.\n",
        "# 튜플 -> 정보를 보기만 할수 있음. 정보 fix\n",
        "\n",
        "t = (10, 20, 30)\n",
        "t"
      ],
      "execution_count": null,
      "outputs": [
        {
          "output_type": "execute_result",
          "data": {
            "text/plain": [
              "(10, 20, 30)"
            ]
          },
          "metadata": {
            "tags": []
          },
          "execution_count": 23
        }
      ]
    },
    {
      "cell_type": "code",
      "metadata": {
        "colab": {
          "base_uri": "https://localhost:8080/"
        },
        "id": "e_8cnQiXi7DF",
        "outputId": "c3f998c0-077f-42c2-b073-77b24c31a35b"
      },
      "source": [
        "dir(t)"
      ],
      "execution_count": null,
      "outputs": [
        {
          "output_type": "execute_result",
          "data": {
            "text/plain": [
              "['__add__',\n",
              " '__class__',\n",
              " '__contains__',\n",
              " '__delattr__',\n",
              " '__dir__',\n",
              " '__doc__',\n",
              " '__eq__',\n",
              " '__format__',\n",
              " '__ge__',\n",
              " '__getattribute__',\n",
              " '__getitem__',\n",
              " '__getnewargs__',\n",
              " '__gt__',\n",
              " '__hash__',\n",
              " '__init__',\n",
              " '__init_subclass__',\n",
              " '__iter__',\n",
              " '__le__',\n",
              " '__len__',\n",
              " '__lt__',\n",
              " '__mul__',\n",
              " '__ne__',\n",
              " '__new__',\n",
              " '__reduce__',\n",
              " '__reduce_ex__',\n",
              " '__repr__',\n",
              " '__rmul__',\n",
              " '__setattr__',\n",
              " '__sizeof__',\n",
              " '__str__',\n",
              " '__subclasshook__',\n",
              " 'count',\n",
              " 'index']"
            ]
          },
          "metadata": {
            "tags": []
          },
          "execution_count": 24
        }
      ]
    },
    {
      "cell_type": "code",
      "metadata": {
        "colab": {
          "base_uri": "https://localhost:8080/",
          "height": 36
        },
        "id": "6fyBRTIOm2M1",
        "outputId": "21b78e31-400b-434b-c8ef-c162de77896a"
      },
      "source": [
        "# 딕셔너리\n",
        "\n",
        "영한번역 = {'one' : '하나', 'two' : '둘'}  # column : data\n",
        "영한번역['one']"
      ],
      "execution_count": null,
      "outputs": [
        {
          "output_type": "execute_result",
          "data": {
            "application/vnd.google.colaboratory.intrinsic+json": {
              "type": "string"
            },
            "text/plain": [
              "'하나'"
            ]
          },
          "metadata": {
            "tags": []
          },
          "execution_count": 29
        }
      ]
    },
    {
      "cell_type": "code",
      "metadata": {
        "colab": {
          "base_uri": "https://localhost:8080/"
        },
        "id": "WEmgdas2n6EG",
        "outputId": "b37e71f4-876b-4ab1-add2-74f720372aa7"
      },
      "source": [
        "# 셋 (집합, 합집합, 차집합, 교집함)\n",
        "\n",
        "s = {10, 20, 30, 30, 30}\n",
        "s"
      ],
      "execution_count": null,
      "outputs": [
        {
          "output_type": "execute_result",
          "data": {
            "text/plain": [
              "{10, 20, 30}"
            ]
          },
          "metadata": {
            "tags": []
          },
          "execution_count": 31
        }
      ]
    },
    {
      "cell_type": "code",
      "metadata": {
        "colab": {
          "base_uri": "https://localhost:8080/"
        },
        "id": "33Vw53L2oKYl",
        "outputId": "2efc9623-c2bd-49f1-f530-62cbad629b6e"
      },
      "source": [
        "s = {10, 20, 30, 30, 30}\n",
        "ss = {10,40, 50}\n",
        "s | ss # 합집합\n",
        "s & ss # 교집합\n",
        "s - ss # 차집합"
      ],
      "execution_count": null,
      "outputs": [
        {
          "output_type": "execute_result",
          "data": {
            "text/plain": [
              "{20, 30}"
            ]
          },
          "metadata": {
            "tags": []
          },
          "execution_count": 33
        }
      ]
    },
    {
      "cell_type": "markdown",
      "metadata": {
        "id": "-FJ-DFfKov8e"
      },
      "source": [
        "f-string"
      ]
    },
    {
      "cell_type": "code",
      "metadata": {
        "colab": {
          "base_uri": "https://localhost:8080/"
        },
        "id": "O9DfRiCzoynN",
        "outputId": "a9ea8c47-1fab-4b5c-cc61-98623b3a3e40"
      },
      "source": [
        "age = 10\n",
        "name = 'leehojun'\n",
        "print('제 이름은 ', name, '입니다.','제 나이는 ',age,'입니다.')\n",
        "print('제 이름은 {0}입니다. 제 나이는 {1}살 입니다.' .format(name, age)) #{0} = name {1} = age \n",
        "# fomat : string의 method 중 하나. -> 앞에 점(.) 붙임\n",
        "print(f'제 이름은 {name} 입니다. 제 나이는 {age+age} 살 입니다.') # 이걸로 쓰기로 (최신문법)\n"
      ],
      "execution_count": null,
      "outputs": [
        {
          "output_type": "stream",
          "text": [
            "제 이름은  leehojun 입니다. 제 나이는  10 입니다.\n",
            "제 이름은 leehojun입니다. 제 나이는 10살 입니다.\n",
            "제 이름은 leehojun 입니다. 제 나이는 20 살 입니다.\n"
          ],
          "name": "stdout"
        }
      ]
    },
    {
      "cell_type": "markdown",
      "metadata": {
        "id": "yoHJugEtru6O"
      },
      "source": [
        "##built in function\n",
        "\n",
        "* abs() : 절댓값\n",
        "* min() : 최솟값\n",
        "* max() : 최댓값\n",
        "* dir() : 매서드 확인\n",
        "* id() : 메모리 주소 확인\n",
        "* sorted() : 정렬\n",
        "* reversed() : 역순(역정렬 아님)\n",
        "* enumerated() : 순서를 매김 (for문하면서 설명)\n",
        "\n",
        "* 형변환 :\n",
        "  * set() : 집합으로 형변환\n",
        "  * dict() : 딕셔너리로 형변환\n",
        "  * bool() : 불리언으로 형변환(True, False)\n",
        "  * int() : 정수형으로 형변환\n",
        "  * str() : 문자열로 형변환\n",
        "  * list() : 리스트로 형변환\n",
        "* ord() : 문자를 숫자로 변환\n",
        "* chr() : 숫자를 문자로 변환\n",
        "* sum() : 전부 더함(더할 수 없으면 애러)\n",
        "* filter() : 필터링(예 - 수학점수 90점 이상인 사람)\n",
        "* print() : 출력\n",
        "* format() : 콤마찍기\n",
        "* len() : 길이 출력!! 중요!!\n",
        "* type() : 타입 알아보기 중요!!\n",
        "* range() : 연속된 값 생성(0 - 99 -> range(100))\n",
        "* zip('abc', 'def')\n",
        "* map(lambda x:x**2,[1,2,3])\n",
        "* round() : 소수점 자리 반올림\n",
        "\n"
      ]
    },
    {
      "cell_type": "code",
      "metadata": {
        "colab": {
          "base_uri": "https://localhost:8080/"
        },
        "id": "W5NAY9DJwc3f",
        "outputId": "fc76fea0-1d0c-47fc-9e95-06a2922166be"
      },
      "source": [
        "list(zip('abc','def'))\n"
      ],
      "execution_count": null,
      "outputs": [
        {
          "output_type": "execute_result",
          "data": {
            "text/plain": [
              "[('a', 'd'), ('b', 'e'), ('c', 'f')]"
            ]
          },
          "metadata": {
            "tags": []
          },
          "execution_count": 50
        }
      ]
    },
    {
      "cell_type": "code",
      "metadata": {
        "colab": {
          "base_uri": "https://localhost:8080/"
        },
        "id": "5MyCT7n2r8ku",
        "outputId": "9c54e1dd-3aff-4a7f-e771-8d1e964bd391"
      },
      "source": [
        "list(map(lambda x:x**2,[1,2,3]))"
      ],
      "execution_count": null,
      "outputs": [
        {
          "output_type": "execute_result",
          "data": {
            "text/plain": [
              "[1, 4, 9]"
            ]
          },
          "metadata": {
            "tags": []
          },
          "execution_count": 57
        }
      ]
    },
    {
      "cell_type": "markdown",
      "metadata": {
        "id": "ha-PpEMV0QMp"
      },
      "source": [
        "## 조건문"
      ]
    },
    {
      "cell_type": "code",
      "metadata": {
        "colab": {
          "base_uri": "https://localhost:8080/"
        },
        "id": "Utdad1HJ1MeR",
        "outputId": "ea65c773-08a0-4187-e666-15b41a2c2c0a"
      },
      "source": [
        "if True:\n",
        "    print('hello')\n",
        "print('end')"
      ],
      "execution_count": null,
      "outputs": [
        {
          "output_type": "stream",
          "text": [
            "hello\n",
            "end\n"
          ],
          "name": "stdout"
        }
      ]
    },
    {
      "cell_type": "code",
      "metadata": {
        "colab": {
          "base_uri": "https://localhost:8080/"
        },
        "id": "rQYnoejH0QAI",
        "outputId": "523f84dc-5f58-4572-d747-7272056c9d50"
      },
      "source": [
        "score = 89\n",
        "money = 0\n",
        "\n",
        "if score > 90:\n",
        "    print('mom : i\\'m so happy')  # i'm 으로 입력하면 그대로 안써지니까 앞에 \\를 붙임\n",
        "    money += 1000000 # money = money + 1000000. 할당연산이라고 부릅니다.\n",
        "elif score > 80:\n",
        "    print('mom : im happy')\n",
        "    money += 100000\n",
        "elif score > 70:   # elif = else if\n",
        "    print('mom: happy?')\n",
        "    money += 10000\n",
        "else:\n",
        "    print('mom: ...')\n",
        "    \n",
        "print(money)"
      ],
      "execution_count": null,
      "outputs": [
        {
          "output_type": "stream",
          "text": [
            "mom : im happy\n",
            "100000\n"
          ],
          "name": "stdout"
        }
      ]
    },
    {
      "cell_type": "markdown",
      "metadata": {
        "id": "yInkPp0J2n-h"
      },
      "source": [
        "## 문제 풀이와 업다운 게임 제작"
      ]
    },
    {
      "cell_type": "code",
      "metadata": {
        "colab": {
          "base_uri": "https://localhost:8080/"
        },
        "id": "5ac1VroE0Och",
        "outputId": "422dc80f-bf5f-4294-c3b6-59d0bd201b1d"
      },
      "source": [
        "str(list(range(100))) # 전부 문자로 변환\n",
        "str(list(range(100))). count('8')\n",
        "str(list(range(10001))). count('8')\n"
      ],
      "execution_count": null,
      "outputs": [
        {
          "output_type": "execute_result",
          "data": {
            "text/plain": [
              "4000"
            ]
          },
          "metadata": {
            "tags": []
          },
          "execution_count": 77
        }
      ]
    },
    {
      "cell_type": "code",
      "metadata": {
        "id": "V5RTjOgE4s4i"
      },
      "source": [
        "리스트 = [1,3, 4, 8, 13, 17, 20]\n",
        "리스트둘 = 리스트[1:]"
      ],
      "execution_count": null,
      "outputs": []
    },
    {
      "cell_type": "code",
      "metadata": {
        "colab": {
          "base_uri": "https://localhost:8080/"
        },
        "id": "dU4dSKYl5Kfh",
        "outputId": "c8023e7d-addb-44e1-e08a-0f264f7b8020"
      },
      "source": [
        "list(zip(리스트, 리스트둘))"
      ],
      "execution_count": null,
      "outputs": [
        {
          "output_type": "execute_result",
          "data": {
            "text/plain": [
              "[(1, 3), (3, 4), (4, 8), (8, 13), (13, 17), (17, 20)]"
            ]
          },
          "metadata": {
            "tags": []
          },
          "execution_count": 81
        }
      ]
    },
    {
      "cell_type": "code",
      "metadata": {
        "colab": {
          "base_uri": "https://localhost:8080/"
        },
        "id": "TkpEWaoi5Wfx",
        "outputId": "1f09120b-e8c7-4c28-e813-4864648a8bdf"
      },
      "source": [
        "묶어준리스트 = list(zip(리스트, 리스트둘))\n",
        "묶어준리스트.sort(key=lambda x:x[0]-x[1], reverse=True) # x[0] : 원소의 0번째, x[1] : 원소의 1번째\n",
        "묶어준리스트\n",
        "묶어준리스트[0]"
      ],
      "execution_count": null,
      "outputs": [
        {
          "output_type": "execute_result",
          "data": {
            "text/plain": [
              "(3, 4)"
            ]
          },
          "metadata": {
            "tags": []
          },
          "execution_count": 84
        }
      ]
    },
    {
      "cell_type": "code",
      "metadata": {
        "colab": {
          "base_uri": "https://localhost:8080/"
        },
        "id": "3YMJgVeE6Jw6",
        "outputId": "3ab2ae0d-e4f5-4515-efce-47cbb6bd4cd6"
      },
      "source": [
        "import random\n",
        "\n",
        "정답 =  random. randint(1, 100)\n",
        "\n",
        "while True:\n",
        "    user = int(input('숫자를 입력해주세요.'))\n",
        "    if user < 정답:\n",
        "      print('Up')\n",
        "    elif user > 정답:\n",
        "      print('Down')\n",
        "    else:\n",
        "      print('정답!')\n",
        "      break"
      ],
      "execution_count": null,
      "outputs": [
        {
          "output_type": "stream",
          "text": [
            "숫자를 입력해주세요.55\n",
            "Down\n",
            "숫자를 입력해주세요.44\n",
            "Down\n",
            "숫자를 입력해주세요.22\n",
            "Down\n",
            "숫자를 입력해주세요.11\n",
            "Down\n",
            "숫자를 입력해주세요.5\n",
            "Up\n",
            "숫자를 입력해주세요.6\n",
            "정답!\n"
          ],
          "name": "stdout"
        }
      ]
    },
    {
      "cell_type": "markdown",
      "metadata": {
        "id": "hh-pPPtC-Xh9"
      },
      "source": [
        "## 반복문"
      ]
    },
    {
      "cell_type": "code",
      "metadata": {
        "colab": {
          "base_uri": "https://localhost:8080/"
        },
        "id": "fxV-zxvx-W6b",
        "outputId": "a879d7d6-8a87-4ad1-da1a-f9dbf3ec7843"
      },
      "source": [
        "for i in range(10):\n",
        "    print(i)"
      ],
      "execution_count": null,
      "outputs": [
        {
          "output_type": "stream",
          "text": [
            "0\n",
            "1\n",
            "2\n",
            "3\n",
            "4\n",
            "5\n",
            "6\n",
            "7\n",
            "8\n",
            "9\n"
          ],
          "name": "stdout"
        }
      ]
    },
    {
      "cell_type": "code",
      "metadata": {
        "colab": {
          "base_uri": "https://localhost:8080/"
        },
        "id": "7w7uPxZCBsM7",
        "outputId": "957d560f-37d3-4262-c348-577f8ee75056"
      },
      "source": [
        "list(range(10)) # stop\n",
        "list(range(0,10, 2)) # start, stop, step\n",
        "list(range(5, 10)) # start, stop\n",
        "list(range(10, 5, -1)) # start, stop, step\n",
        "\n"
      ],
      "execution_count": null,
      "outputs": [
        {
          "output_type": "execute_result",
          "data": {
            "text/plain": [
              "[10, 9, 8, 7, 6]"
            ]
          },
          "metadata": {
            "tags": []
          },
          "execution_count": 99
        }
      ]
    },
    {
      "cell_type": "code",
      "metadata": {
        "colab": {
          "base_uri": "https://localhost:8080/"
        },
        "id": "wQyAuOrjCOjh",
        "outputId": "1177a64d-f1cd-43c9-b58a-4163ed413008"
      },
      "source": [
        "s = 0\n",
        "for i in range(101):\n",
        "    s = s + 1\n",
        "\n",
        "print(s)"
      ],
      "execution_count": null,
      "outputs": [
        {
          "output_type": "stream",
          "text": [
            "101\n"
          ],
          "name": "stdout"
        }
      ]
    },
    {
      "cell_type": "code",
      "metadata": {
        "colab": {
          "base_uri": "https://localhost:8080/"
        },
        "id": "orw1h-cxCena",
        "outputId": "0326439d-6063-4e02-9428-90ba4e00cd76"
      },
      "source": [
        "s = 0\n",
        "for i in range(0, 101, 2): \n",
        "    s = s + i\n",
        "\n",
        "print(s)\n",
        "\n"
      ],
      "execution_count": null,
      "outputs": [
        {
          "output_type": "stream",
          "text": [
            "2550\n"
          ],
          "name": "stdout"
        }
      ]
    },
    {
      "cell_type": "code",
      "metadata": {
        "colab": {
          "base_uri": "https://localhost:8080/"
        },
        "id": "YB2VyFllDsVK",
        "outputId": "7e0f309e-a8e6-4aa4-9329-ce98704d6ced"
      },
      "source": [
        "sum(range(0, 101, 2))"
      ],
      "execution_count": null,
      "outputs": [
        {
          "output_type": "execute_result",
          "data": {
            "text/plain": [
              "2550"
            ]
          },
          "metadata": {
            "tags": []
          },
          "execution_count": 109
        }
      ]
    },
    {
      "cell_type": "code",
      "metadata": {
        "colab": {
          "base_uri": "https://localhost:8080/"
        },
        "id": "BNZdqLfCDyca",
        "outputId": "afb95124-e877-4a27-e863-6f34b0b8eb1c"
      },
      "source": [
        "s = 0 \n",
        "for i in range(101):\n",
        "    if i  % 2 ==0:\n",
        "        s = s + i\n",
        "\n",
        "print(s)"
      ],
      "execution_count": null,
      "outputs": [
        {
          "output_type": "stream",
          "text": [
            "2550\n"
          ],
          "name": "stdout"
        }
      ]
    },
    {
      "cell_type": "code",
      "metadata": {
        "colab": {
          "base_uri": "https://localhost:8080/"
        },
        "id": "Cp6UAnEUEp_T",
        "outputId": "3a1e6f93-5df8-4f58-e021-d081183f5be9"
      },
      "source": [
        "for i in range(1, 10):\n",
        "    print(f'{2} X {i} = {2 * i}')\n",
        "for i in range(1, 10):\n",
        "    print(f'{3} X {i} = {3 * i}')\n",
        "for i in range(1, 10):\n",
        "    print(f'{4} X {i} = {4 * i}')\n",
        "for i in range(1, 10):\n",
        "    print(f'{5} X {i} = {5 * i}')\n",
        "for i in range(1, 10):\n",
        "    print(f'{6} X {i} = {6 * i}')\n",
        "for i in range(1, 10):\n",
        "    print(f'{7} X {i} = {7 * i}')\n",
        "for i in range(1, 10):\n",
        "    print(f'{8} X {i} = {8 * i}')\n",
        "for i in range(1, 10):\n",
        "    print(f'{9} X {i} = {9 * i}')\n",
        "\n"
      ],
      "execution_count": null,
      "outputs": [
        {
          "output_type": "stream",
          "text": [
            "2 X 1 = 2\n",
            "2 X 2 = 4\n",
            "2 X 3 = 6\n",
            "2 X 4 = 8\n",
            "2 X 5 = 10\n",
            "2 X 6 = 12\n",
            "2 X 7 = 14\n",
            "2 X 8 = 16\n",
            "2 X 9 = 18\n",
            "3 X 1 = 3\n",
            "3 X 2 = 6\n",
            "3 X 3 = 9\n",
            "3 X 4 = 12\n",
            "3 X 5 = 15\n",
            "3 X 6 = 18\n",
            "3 X 7 = 21\n",
            "3 X 8 = 24\n",
            "3 X 9 = 27\n",
            "4 X 1 = 4\n",
            "4 X 2 = 8\n",
            "4 X 3 = 12\n",
            "4 X 4 = 16\n",
            "4 X 5 = 20\n",
            "4 X 6 = 24\n",
            "4 X 7 = 28\n",
            "4 X 8 = 32\n",
            "4 X 9 = 36\n",
            "5 X 1 = 5\n",
            "5 X 2 = 10\n",
            "5 X 3 = 15\n",
            "5 X 4 = 20\n",
            "5 X 5 = 25\n",
            "5 X 6 = 30\n",
            "5 X 7 = 35\n",
            "5 X 8 = 40\n",
            "5 X 9 = 45\n",
            "6 X 1 = 6\n",
            "6 X 2 = 12\n",
            "6 X 3 = 18\n",
            "6 X 4 = 24\n",
            "6 X 5 = 30\n",
            "6 X 6 = 36\n",
            "6 X 7 = 42\n",
            "6 X 8 = 48\n",
            "6 X 9 = 54\n",
            "7 X 1 = 7\n",
            "7 X 2 = 14\n",
            "7 X 3 = 21\n",
            "7 X 4 = 28\n",
            "7 X 5 = 35\n",
            "7 X 6 = 42\n",
            "7 X 7 = 49\n",
            "7 X 8 = 56\n",
            "7 X 9 = 63\n",
            "8 X 1 = 8\n",
            "8 X 2 = 16\n",
            "8 X 3 = 24\n",
            "8 X 4 = 32\n",
            "8 X 5 = 40\n",
            "8 X 6 = 48\n",
            "8 X 7 = 56\n",
            "8 X 8 = 64\n",
            "8 X 9 = 72\n",
            "9 X 1 = 9\n",
            "9 X 2 = 18\n",
            "9 X 3 = 27\n",
            "9 X 4 = 36\n",
            "9 X 5 = 45\n",
            "9 X 6 = 54\n",
            "9 X 7 = 63\n",
            "9 X 8 = 72\n",
            "9 X 9 = 81\n"
          ],
          "name": "stdout"
        }
      ]
    },
    {
      "cell_type": "code",
      "metadata": {
        "colab": {
          "base_uri": "https://localhost:8080/"
        },
        "id": "jsT2Aj85Fc7M",
        "outputId": "2f29300a-4bf9-4002-e4e2-59bfbc79ea9c"
      },
      "source": [
        "for 단 in range(2, 10):\n",
        "    for i in range(1, 10):\n",
        "        print(f'{단} X {i} = {단 * i}')"
      ],
      "execution_count": null,
      "outputs": [
        {
          "output_type": "stream",
          "text": [
            "2 X 1 = 2\n",
            "2 X 2 = 4\n",
            "2 X 3 = 6\n",
            "2 X 4 = 8\n",
            "2 X 5 = 10\n",
            "2 X 6 = 12\n",
            "2 X 7 = 14\n",
            "2 X 8 = 16\n",
            "2 X 9 = 18\n",
            "3 X 1 = 3\n",
            "3 X 2 = 6\n",
            "3 X 3 = 9\n",
            "3 X 4 = 12\n",
            "3 X 5 = 15\n",
            "3 X 6 = 18\n",
            "3 X 7 = 21\n",
            "3 X 8 = 24\n",
            "3 X 9 = 27\n",
            "4 X 1 = 4\n",
            "4 X 2 = 8\n",
            "4 X 3 = 12\n",
            "4 X 4 = 16\n",
            "4 X 5 = 20\n",
            "4 X 6 = 24\n",
            "4 X 7 = 28\n",
            "4 X 8 = 32\n",
            "4 X 9 = 36\n",
            "5 X 1 = 5\n",
            "5 X 2 = 10\n",
            "5 X 3 = 15\n",
            "5 X 4 = 20\n",
            "5 X 5 = 25\n",
            "5 X 6 = 30\n",
            "5 X 7 = 35\n",
            "5 X 8 = 40\n",
            "5 X 9 = 45\n",
            "6 X 1 = 6\n",
            "6 X 2 = 12\n",
            "6 X 3 = 18\n",
            "6 X 4 = 24\n",
            "6 X 5 = 30\n",
            "6 X 6 = 36\n",
            "6 X 7 = 42\n",
            "6 X 8 = 48\n",
            "6 X 9 = 54\n",
            "7 X 1 = 7\n",
            "7 X 2 = 14\n",
            "7 X 3 = 21\n",
            "7 X 4 = 28\n",
            "7 X 5 = 35\n",
            "7 X 6 = 42\n",
            "7 X 7 = 49\n",
            "7 X 8 = 56\n",
            "7 X 9 = 63\n",
            "8 X 1 = 8\n",
            "8 X 2 = 16\n",
            "8 X 3 = 24\n",
            "8 X 4 = 32\n",
            "8 X 5 = 40\n",
            "8 X 6 = 48\n",
            "8 X 7 = 56\n",
            "8 X 8 = 64\n",
            "8 X 9 = 72\n",
            "9 X 1 = 9\n",
            "9 X 2 = 18\n",
            "9 X 3 = 27\n",
            "9 X 4 = 36\n",
            "9 X 5 = 45\n",
            "9 X 6 = 54\n",
            "9 X 7 = 63\n",
            "9 X 8 = 72\n",
            "9 X 9 = 81\n"
          ],
          "name": "stdout"
        }
      ]
    },
    {
      "cell_type": "code",
      "metadata": {
        "colab": {
          "base_uri": "https://localhost:8080/"
        },
        "id": "5Jh0IW2mGTS6",
        "outputId": "3d0afe7c-ec5d-43cc-8850-2999e63160bb"
      },
      "source": [
        "x = 0\n",
        "while x < 10:\n",
        "    print(x)\n",
        "    x += 1"
      ],
      "execution_count": null,
      "outputs": [
        {
          "output_type": "stream",
          "text": [
            "0\n",
            "1\n",
            "2\n",
            "3\n",
            "4\n",
            "5\n",
            "6\n",
            "7\n",
            "8\n",
            "9\n"
          ],
          "name": "stdout"
        }
      ]
    },
    {
      "cell_type": "code",
      "metadata": {
        "colab": {
          "base_uri": "https://localhost:8080/"
        },
        "id": "Qay4vq9KGjuD",
        "outputId": "3a137f03-60a7-46a5-c796-12ff85517cb2"
      },
      "source": [
        "x = 1\n",
        "while x <10:\n",
        "    print(f'{2} X {x} = {2 * x}')\n",
        "    x += 1"
      ],
      "execution_count": null,
      "outputs": [
        {
          "output_type": "stream",
          "text": [
            "2 X 1 = 2\n",
            "2 X 2 = 4\n",
            "2 X 3 = 6\n",
            "2 X 4 = 8\n",
            "2 X 5 = 10\n",
            "2 X 6 = 12\n",
            "2 X 7 = 14\n",
            "2 X 8 = 16\n",
            "2 X 9 = 18\n"
          ],
          "name": "stdout"
        }
      ]
    },
    {
      "cell_type": "markdown",
      "metadata": {
        "id": "Jb1RmNT4H9SU"
      },
      "source": [
        "## 모듈"
      ]
    },
    {
      "cell_type": "code",
      "metadata": {
        "id": "me8FrXIRH7MU"
      },
      "source": [
        "# filename = test.py\n",
        "# name = leehojun\n",
        "# age = 10\n"
      ],
      "execution_count": null,
      "outputs": []
    },
    {
      "cell_type": "code",
      "metadata": {
        "colab": {
          "base_uri": "https://localhost:8080/"
        },
        "id": "RzL3ABDqJtqd",
        "outputId": "18eef418-ee3e-43bd-8e9f-2a9a798b7583"
      },
      "source": [
        "# import test\n",
        "import test as t\n",
        "\n",
        "print(t.name)\n",
        "print(t.age)"
      ],
      "execution_count": null,
      "outputs": [
        {
          "output_type": "stream",
          "text": [
            "leehojun\n",
            "10\n"
          ],
          "name": "stdout"
        }
      ]
    },
    {
      "cell_type": "code",
      "metadata": {
        "colab": {
          "base_uri": "https://localhost:8080/"
        },
        "id": "HjOpTTABKUJ6",
        "outputId": "d4055bfe-849c-43c9-f13f-cc9e6a4844df"
      },
      "source": [
        "from test import name, age\n",
        "\n",
        "print(name)\n",
        "print(age)"
      ],
      "execution_count": null,
      "outputs": [
        {
          "output_type": "stream",
          "text": [
            "leehojun\n",
            "10\n"
          ],
          "name": "stdout"
        }
      ]
    },
    {
      "cell_type": "markdown",
      "metadata": {
        "id": "oQBu5I7PK6R4"
      },
      "source": [
        "## 파일 입출력"
      ]
    },
    {
      "cell_type": "code",
      "metadata": {
        "id": "lqVhXXoZK9QU"
      },
      "source": [
        "f = open('구구단.txt', 'w') # r(읽음), w(작성, 덮어씀), a(추가)\n",
        "data = ''\n",
        "for 단 in range(2, 10):\n",
        "    for i in range(1, 10):\n",
        "         data += f'{단} X {i} = {단 * i}\\n'\n",
        "f.write(data)\n",
        "f.close()"
      ],
      "execution_count": null,
      "outputs": []
    },
    {
      "cell_type": "markdown",
      "metadata": {
        "id": "yVFLess27pO8"
      },
      "source": [
        "## 함수\n",
        "\n",
        "1. 재사용성을 높일 수 있다.\n",
        "2. 코드의 구조를 파악하기 쉽다.\n",
        "3. 유지보수를 쉽게 할 수 있다. "
      ]
    },
    {
      "cell_type": "code",
      "metadata": {
        "colab": {
          "base_uri": "https://localhost:8080/"
        },
        "id": "YmyFItXT7qvl",
        "outputId": "7deede0c-4622-49f5-aee4-e9c8a034b4d5"
      },
      "source": [
        "def 더하기(x, y):\n",
        "    return x + y\n",
        "\n",
        "더하기(10, 20)"
      ],
      "execution_count": 10,
      "outputs": [
        {
          "output_type": "execute_result",
          "data": {
            "text/plain": [
              "30"
            ]
          },
          "metadata": {
            "tags": []
          },
          "execution_count": 10
        }
      ]
    },
    {
      "cell_type": "code",
      "metadata": {
        "colab": {
          "base_uri": "https://localhost:8080/"
        },
        "id": "M6WmEU_98HYt",
        "outputId": "eb17329a-12cd-436c-9400-fb9b67586d23"
      },
      "source": [
        "def 원의넓이(r):\n",
        "      return(r**2) * 3.14\n",
        "      \n",
        "print(원의넓이(10) + 100)\n",
        "print(원의넓이(10) + 50)"
      ],
      "execution_count": 12,
      "outputs": [
        {
          "output_type": "stream",
          "text": [
            "414.0\n",
            "364.0\n"
          ],
          "name": "stdout"
        }
      ]
    },
    {
      "cell_type": "code",
      "metadata": {
        "colab": {
          "base_uri": "https://localhost:8080/"
        },
        "id": "7mrxgYbp8c2F",
        "outputId": "34617f71-04fb-461e-be61-084879f4093f"
      },
      "source": [
        "점수 = [10, 20, 30, 40]\n",
        "def 평균(반점수):\n",
        "    s = 0\n",
        "    for i in 반점수:\n",
        "        s += i\n",
        "    return s / len(반점수)\n",
        "  \n",
        "print(평균(점수))\n",
        "print(평균(점수) + 5) # 함수 재사용"
      ],
      "execution_count": 14,
      "outputs": [
        {
          "output_type": "stream",
          "text": [
            "25.0\n",
            "30.0\n"
          ],
          "name": "stdout"
        }
      ]
    },
    {
      "cell_type": "markdown",
      "metadata": {
        "id": "3HQGnqaM33Wm"
      },
      "source": [
        "## 클래스\n",
        "\n",
        "* 현실세계의 개념을 Code로 옯겨 놓은 것\n",
        "* 클래스의 첫 문자열은 대문자로 합니다.(관습) "
      ]
    },
    {
      "cell_type": "code",
      "metadata": {
        "id": "SRe9OYeh355W"
      },
      "source": [
        "class Car : # Car라는 class 생성\n",
        "    # 클래스 변수(클래스에서 사용하는 변수) 또는 맴버\n",
        "    maxspeed = 300\n",
        "    maxpeople = 5\n",
        "    #메서드\n",
        "    def start(self):\n",
        "        print('출발하였습니다.')\n",
        "\n",
        "    def stop(self):\n",
        "        print('멈췄습니다.')\n",
        "  \n"
      ],
      "execution_count": 1,
      "outputs": []
    },
    {
      "cell_type": "code",
      "metadata": {
        "colab": {
          "base_uri": "https://localhost:8080/"
        },
        "id": "fSQzS5dl5VSv",
        "outputId": "7c0e346a-9490-4535-d18e-bbe98f58f316"
      },
      "source": [
        "audi = Car() # audi라는 인스턴스 생성\n",
        "bmw = Car() # bmw라는 인스턴스 생성\n",
        "\n",
        "audi.start()\n",
        "print(audi.maxpeople)\n",
        "print(Car.maxspeed) # 이렇게 사용하면 안됩니다."
      ],
      "execution_count": 5,
      "outputs": [
        {
          "output_type": "stream",
          "text": [
            "출발하였습니다.\n",
            "5\n",
            "300\n"
          ],
          "name": "stdout"
        }
      ]
    },
    {
      "cell_type": "code",
      "metadata": {
        "colab": {
          "base_uri": "https://localhost:8080/"
        },
        "id": "wyUkrlTv6gEF",
        "outputId": "dfddf633-c6f2-46d5-eace-147c562993f2"
      },
      "source": [
        "dir(audi)"
      ],
      "execution_count": 7,
      "outputs": [
        {
          "output_type": "execute_result",
          "data": {
            "text/plain": [
              "['__class__',\n",
              " '__delattr__',\n",
              " '__dict__',\n",
              " '__dir__',\n",
              " '__doc__',\n",
              " '__eq__',\n",
              " '__format__',\n",
              " '__ge__',\n",
              " '__getattribute__',\n",
              " '__gt__',\n",
              " '__hash__',\n",
              " '__init__',\n",
              " '__init_subclass__',\n",
              " '__le__',\n",
              " '__lt__',\n",
              " '__module__',\n",
              " '__ne__',\n",
              " '__new__',\n",
              " '__reduce__',\n",
              " '__reduce_ex__',\n",
              " '__repr__',\n",
              " '__setattr__',\n",
              " '__sizeof__',\n",
              " '__str__',\n",
              " '__subclasshook__',\n",
              " '__weakref__',\n",
              " 'maxpeople',\n",
              " 'maxspeed',\n",
              " 'start',\n",
              " 'stop']"
            ]
          },
          "metadata": {
            "tags": []
          },
          "execution_count": 7
        }
      ]
    },
    {
      "cell_type": "code",
      "metadata": {
        "colab": {
          "base_uri": "https://localhost:8080/"
        },
        "id": "b3En0qy-6vVl",
        "outputId": "a366c657-79d5-45e1-f0e3-eaeeb019cf0d"
      },
      "source": [
        "class 전기차(Car): # Car의 속성을 상속받음\n",
        "    배터리 = 100\n",
        "    배터리에_따라_갈_수_있는_거리 = 300\n",
        "\n",
        "전기차audi = 전기차()\n",
        "전기차audi.start()"
      ],
      "execution_count": 15,
      "outputs": [
        {
          "output_type": "stream",
          "text": [
            "출발하였습니다.\n"
          ],
          "name": "stdout"
        }
      ]
    },
    {
      "cell_type": "markdown",
      "metadata": {
        "id": "UBFRz1qyMSX0"
      },
      "source": [
        "# \"데이터 분석 python 기초 문법 노트북\"\n",
        "> \"20201년 여름방학 데이터분석을 위한 python 기초문법\"\n",
        "\n",
        "- toc:true\n",
        "- branch: master\n",
        "- badges: true\n",
        "- comments: true\n",
        "- author: jangeunhye\n",
        "- categories: [Python, 데이터분석]"
      ]
    }
  ]
}