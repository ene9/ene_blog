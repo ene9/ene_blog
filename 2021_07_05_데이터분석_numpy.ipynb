{
  "nbformat": 4,
  "nbformat_minor": 0,
  "metadata": {
    "colab": {
      "name": "2021_07_05_데이터분석_numpy.ipynb",
      "provenance": []
    },
    "kernelspec": {
      "name": "python3",
      "display_name": "Python 3"
    },
    "language_info": {
      "name": "python"
    }
  },
  "cells": [
    {
      "cell_type": "markdown",
      "metadata": {
        "id": "1daZomGtj7cD"
      },
      "source": [
        "# \"데이터 분석 numpy 기초 문법 노트북\"\n",
        "> \"20201년 여름방학 데이터분석을 위한 python 기초문법\"\n",
        "\n",
        "- toc:true\n",
        "- branch: master\n",
        "- badges: true\n",
        "- comments: true\n",
        "- author: jangeunhye\n",
        "- categories: [Python, 데이터분석, numpy]"
      ]
    },
    {
      "cell_type": "code",
      "metadata": {
        "colab": {
          "base_uri": "https://localhost:8080/"
        },
        "id": "7R8zj7YgTBQg",
        "outputId": "bae574be-0de1-4464-8ba0-29df896ffd4c"
      },
      "source": [
        "리스트 = [[1,2,3], [4,5,6], [7,8,9]]\n",
        "리스트[0][0]\n",
        "리스트[2][0]\n"
      ],
      "execution_count": 2,
      "outputs": [
        {
          "output_type": "execute_result",
          "data": {
            "text/plain": [
              "7"
            ]
          },
          "metadata": {
            "tags": []
          },
          "execution_count": 2
        }
      ]
    },
    {
      "cell_type": "code",
      "metadata": {
        "colab": {
          "base_uri": "https://localhost:8080/"
        },
        "id": "QsiDqvPzVc_H",
        "outputId": "8464dabe-b166-45fe-b2d4-383611d5c0e7"
      },
      "source": [
        "import numpy as np\n",
        "\n",
        "리스트 = [[1,2,3], [4,5,6], [7,8,9]]\n",
        "리스트 = np.array(리스트)\n",
        "리스트 * 2\n",
        "리스트 + 100"
      ],
      "execution_count": 5,
      "outputs": [
        {
          "output_type": "execute_result",
          "data": {
            "text/plain": [
              "array([[101, 102, 103],\n",
              "       [104, 105, 106],\n",
              "       [107, 108, 109]])"
            ]
          },
          "metadata": {
            "tags": []
          },
          "execution_count": 5
        }
      ]
    },
    {
      "cell_type": "code",
      "metadata": {
        "colab": {
          "base_uri": "https://localhost:8080/"
        },
        "id": "0v4Hv6uoV6_P",
        "outputId": "ad6eecf6-2852-4906-b07a-3232f673e062"
      },
      "source": [
        "a = np.arange(15).reshape(3, 5)\n",
        "a"
      ],
      "execution_count": 7,
      "outputs": [
        {
          "output_type": "execute_result",
          "data": {
            "text/plain": [
              "array([[ 0,  1,  2,  3,  4],\n",
              "       [ 5,  6,  7,  8,  9],\n",
              "       [10, 11, 12, 13, 14]])"
            ]
          },
          "metadata": {
            "tags": []
          },
          "execution_count": 7
        }
      ]
    },
    {
      "cell_type": "code",
      "metadata": {
        "colab": {
          "base_uri": "https://localhost:8080/"
        },
        "id": "OhAS4H_NWMAP",
        "outputId": "d7213313-df9b-4c0b-ec77-32660bcd2d51"
      },
      "source": [
        "a = np.arange(20).reshape(4, 5) #reshape(row, column)\n",
        "a"
      ],
      "execution_count": 9,
      "outputs": [
        {
          "output_type": "execute_result",
          "data": {
            "text/plain": [
              "array([[ 0,  1,  2,  3,  4],\n",
              "       [ 5,  6,  7,  8,  9],\n",
              "       [10, 11, 12, 13, 14],\n",
              "       [15, 16, 17, 18, 19]])"
            ]
          },
          "metadata": {
            "tags": []
          },
          "execution_count": 9
        }
      ]
    },
    {
      "cell_type": "code",
      "metadata": {
        "colab": {
          "base_uri": "https://localhost:8080/"
        },
        "id": "-ZK8gmQEWWF3",
        "outputId": "48f28532-e70f-4e62-85ce-246c60fef9cf"
      },
      "source": [
        "a = np.arange(20).reshape(2, 2, 5) # 3차원\n",
        "a[0][1][1]"
      ],
      "execution_count": 12,
      "outputs": [
        {
          "output_type": "execute_result",
          "data": {
            "text/plain": [
              "6"
            ]
          },
          "metadata": {
            "tags": []
          },
          "execution_count": 12
        }
      ]
    },
    {
      "cell_type": "code",
      "metadata": {
        "colab": {
          "base_uri": "https://localhost:8080/"
        },
        "id": "lxkaSSO8Wlgn",
        "outputId": "5d87a3dd-f53e-42ab-d4b2-904f71b00150"
      },
      "source": [
        "a = np.arange(15).reshape(3, 5)\n",
        "a\n",
        "a.shape\n",
        "a.ndim # 몇차원인지\n",
        "a.dtype.name # 데이터 타입\n",
        "a.itemsize\n",
        "a.size # flat한 데이터 사이즈\n",
        "type(a) "
      ],
      "execution_count": 19,
      "outputs": [
        {
          "output_type": "execute_result",
          "data": {
            "text/plain": [
              "numpy.ndarray"
            ]
          },
          "metadata": {
            "tags": []
          },
          "execution_count": 19
        }
      ]
    },
    {
      "cell_type": "code",
      "metadata": {
        "colab": {
          "base_uri": "https://localhost:8080/"
        },
        "id": "UmWU5BG4W3if",
        "outputId": "c3c294a5-2a12-4bb7-b6e1-11dc14c4c50b"
      },
      "source": [
        "np.zeros((3, 4)) #0으로 생성"
      ],
      "execution_count": 21,
      "outputs": [
        {
          "output_type": "execute_result",
          "data": {
            "text/plain": [
              "array([[0., 0., 0., 0.],\n",
              "       [0., 0., 0., 0.],\n",
              "       [0., 0., 0., 0.]])"
            ]
          },
          "metadata": {
            "tags": []
          },
          "execution_count": 21
        }
      ]
    },
    {
      "cell_type": "code",
      "metadata": {
        "colab": {
          "base_uri": "https://localhost:8080/"
        },
        "id": "teW_ky16YqeX",
        "outputId": "014f59a5-def2-4d6e-9e4e-6e77631bf2a6"
      },
      "source": [
        "np.ones((2, 3), dtype=np.int16) "
      ],
      "execution_count": 24,
      "outputs": [
        {
          "output_type": "execute_result",
          "data": {
            "text/plain": [
              "array([[1, 1, 1],\n",
              "       [1, 1, 1]], dtype=int16)"
            ]
          },
          "metadata": {
            "tags": []
          },
          "execution_count": 24
        }
      ]
    },
    {
      "cell_type": "code",
      "metadata": {
        "colab": {
          "base_uri": "https://localhost:8080/"
        },
        "id": "A526Zr8IYxYv",
        "outputId": "a234d94f-affc-48b0-a94e-d3af97286c0c"
      },
      "source": [
        "np.empty((2, 3))"
      ],
      "execution_count": 26,
      "outputs": [
        {
          "output_type": "execute_result",
          "data": {
            "text/plain": [
              "array([[4.68485207e-310, 0.00000000e+000, 0.00000000e+000],\n",
              "       [0.00000000e+000, 0.00000000e+000, 0.00000000e+000]])"
            ]
          },
          "metadata": {
            "tags": []
          },
          "execution_count": 26
        }
      ]
    },
    {
      "cell_type": "code",
      "metadata": {
        "colab": {
          "base_uri": "https://localhost:8080/"
        },
        "id": "VZJEQjnrY9HO",
        "outputId": "05ae3b43-dca5-49ab-dd91-703a7a344be5"
      },
      "source": [
        "np.arange(0, 2, 0.3) # arrange에서는 소수점 안됨"
      ],
      "execution_count": 28,
      "outputs": [
        {
          "output_type": "execute_result",
          "data": {
            "text/plain": [
              "array([0. , 0.3, 0.6, 0.9, 1.2, 1.5, 1.8])"
            ]
          },
          "metadata": {
            "tags": []
          },
          "execution_count": 28
        }
      ]
    },
    {
      "cell_type": "code",
      "metadata": {
        "colab": {
          "base_uri": "https://localhost:8080/"
        },
        "id": "TIM6ZrpKZD-v",
        "outputId": "84f7af7b-b9be-40b9-efaf-c900cda357ad"
      },
      "source": [
        "np.linspace(0, 10, 20) # 0부터 10까지의 수를 20개 출력"
      ],
      "execution_count": 31,
      "outputs": [
        {
          "output_type": "execute_result",
          "data": {
            "text/plain": [
              "array([ 0.        ,  0.52631579,  1.05263158,  1.57894737,  2.10526316,\n",
              "        2.63157895,  3.15789474,  3.68421053,  4.21052632,  4.73684211,\n",
              "        5.26315789,  5.78947368,  6.31578947,  6.84210526,  7.36842105,\n",
              "        7.89473684,  8.42105263,  8.94736842,  9.47368421, 10.        ])"
            ]
          },
          "metadata": {
            "tags": []
          },
          "execution_count": 31
        }
      ]
    },
    {
      "cell_type": "code",
      "metadata": {
        "colab": {
          "base_uri": "https://localhost:8080/"
        },
        "id": "e6iiP1OVdlrv",
        "outputId": "5f188203-f21e-40fd-a346-8fa477bd622c"
      },
      "source": [
        "리스트 = [[10,2,3], [4,5,6], [7,8,9]]\n",
        "a = np.array(리스트)\n",
        "# a.sum(), sum(리스트) # sum(리스트)는 에러납니다.\n",
        "a.min(), min(리스트)\n",
        "a.max(), max(리스트) # 두개는 출력하는 결과도 다릅니다. 0번째 숫자만 비교함 10과 4와 7을 -> 10이 제일 크니까 [10, 2, 3]을 출력"
      ],
      "execution_count": 35,
      "outputs": [
        {
          "output_type": "execute_result",
          "data": {
            "text/plain": [
              "(10, [10, 2, 3])"
            ]
          },
          "metadata": {
            "tags": []
          },
          "execution_count": 35
        }
      ]
    },
    {
      "cell_type": "code",
      "metadata": {
        "colab": {
          "base_uri": "https://localhost:8080/"
        },
        "id": "XkNSHO59euSe",
        "outputId": "8689cf86-6a67-425a-d3f9-ad40bc8b57fd"
      },
      "source": [
        "b = np.arange(12).reshape(3, 4)\n",
        "b"
      ],
      "execution_count": 39,
      "outputs": [
        {
          "output_type": "execute_result",
          "data": {
            "text/plain": [
              "array([[ 0,  1,  2,  3],\n",
              "       [ 4,  5,  6,  7],\n",
              "       [ 8,  9, 10, 11]])"
            ]
          },
          "metadata": {
            "tags": []
          },
          "execution_count": 39
        }
      ]
    },
    {
      "cell_type": "code",
      "metadata": {
        "colab": {
          "base_uri": "https://localhost:8080/"
        },
        "id": "wqsR1w3RfZ0t",
        "outputId": "52418e58-cea6-435b-97eb-41fa2580ad2a"
      },
      "source": [
        "b.sum(axis=0) # cilumn기준으로 row끼리 더한 것(세로) axis = 축 \n",
        "b.sum(axis=1) # row기준으로 colimn끼리 더한 것(가로)\n",
        "b.sum() # flat하게 모두 더한 것"
      ],
      "execution_count": 43,
      "outputs": [
        {
          "output_type": "execute_result",
          "data": {
            "text/plain": [
              "66"
            ]
          },
          "metadata": {
            "tags": []
          },
          "execution_count": 43
        }
      ]
    },
    {
      "cell_type": "code",
      "metadata": {
        "colab": {
          "base_uri": "https://localhost:8080/"
        },
        "id": "dobZUse6gcml",
        "outputId": "9e7e3a1d-4088-4890-d467-2b8cdb418507"
      },
      "source": [
        "b.ravel()"
      ],
      "execution_count": 45,
      "outputs": [
        {
          "output_type": "execute_result",
          "data": {
            "text/plain": [
              "array([ 0,  1,  2,  3,  4,  5,  6,  7,  8,  9, 10, 11])"
            ]
          },
          "metadata": {
            "tags": []
          },
          "execution_count": 45
        }
      ]
    },
    {
      "cell_type": "code",
      "metadata": {
        "colab": {
          "base_uri": "https://localhost:8080/"
        },
        "id": "_lLO5hnqgp79",
        "outputId": "65dbde6e-edba-4e28-c20e-51430dfeca8c"
      },
      "source": [
        "b.T # 잘써요!\n",
        "# b.transpose() # 잘 안써요"
      ],
      "execution_count": 49,
      "outputs": [
        {
          "output_type": "execute_result",
          "data": {
            "text/plain": [
              "array([[ 0,  4,  8],\n",
              "       [ 1,  5,  9],\n",
              "       [ 2,  6, 10],\n",
              "       [ 3,  7, 11]])"
            ]
          },
          "metadata": {
            "tags": []
          },
          "execution_count": 49
        }
      ]
    },
    {
      "cell_type": "code",
      "metadata": {
        "colab": {
          "base_uri": "https://localhost:8080/"
        },
        "id": "uRWfWdgZhKq1",
        "outputId": "bf507944-4ecf-44dc-f0ad-e6f87be57811"
      },
      "source": [
        "a = np.array([[1, 2], [3, 4]])\n",
        "b = np.floor([[5, 6], [7, 8]])\n",
        "np.vstack((a, b))\n",
        "np.hstack((a, b))"
      ],
      "execution_count": 55,
      "outputs": [
        {
          "output_type": "execute_result",
          "data": {
            "text/plain": [
              "array([[1., 2., 5., 6.],\n",
              "       [3., 4., 7., 8.]])"
            ]
          },
          "metadata": {
            "tags": []
          },
          "execution_count": 55
        }
      ]
    },
    {
      "cell_type": "code",
      "metadata": {
        "colab": {
          "base_uri": "https://localhost:8080/"
        },
        "id": "pvoAIj11h_pc",
        "outputId": "338203a4-cecb-4ee2-efa1-6cda2bde104e"
      },
      "source": [
        "a = np.arange(12).reshape(3, 4)\n",
        "b = a > 4\n",
        "b "
      ],
      "execution_count": 51,
      "outputs": [
        {
          "output_type": "execute_result",
          "data": {
            "text/plain": [
              "array([[False, False, False, False],\n",
              "       [False,  True,  True,  True],\n",
              "       [ True,  True,  True,  True]])"
            ]
          },
          "metadata": {
            "tags": []
          },
          "execution_count": 51
        }
      ]
    },
    {
      "cell_type": "code",
      "metadata": {
        "colab": {
          "base_uri": "https://localhost:8080/"
        },
        "id": "KrXiFBl-iP1c",
        "outputId": "94000000-790b-446c-efdc-6dd754cb608e"
      },
      "source": [
        "b.sum() # 매우 많이 사용"
      ],
      "execution_count": 52,
      "outputs": [
        {
          "output_type": "execute_result",
          "data": {
            "text/plain": [
              "7"
            ]
          },
          "metadata": {
            "tags": []
          },
          "execution_count": 52
        }
      ]
    }
  ]
}